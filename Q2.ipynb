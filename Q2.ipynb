{
 "cells": [
  {
   "cell_type": "code",
   "execution_count": 11,
   "id": "e568c7b8",
   "metadata": {},
   "outputs": [
    {
     "name": "stdout",
     "output_type": "stream",
     "text": [
      "The province with the largest population is: Ontario\n"
     ]
    }
   ],
   "source": [
    "import json\n",
    "\n",
    "\n",
    "with open('provdata.json', 'r') as file:\n",
    "    data = json.load(file)\n",
    "maxpop = 0 \n",
    "province = \"\"\n",
    "\n",
    "for dic in data['data']:\n",
    "    for key, value in dic.items(): \n",
    "        if key in [\"BC\", \"AB\", \"ON\", \"MB\", \"SK\"]: \n",
    "            dic[key] = float(value)\n",
    "            if maxpop < dic[key]:\n",
    "                maxpop = dic[key]\n",
    "                province = key    # find out the value of the largest population through every second dictionary\n",
    "\n",
    "# Retrieve the actual province name using the result from our first for loop\n",
    "original=\"\"\n",
    "for dic in data['data']:\n",
    "    for key, value in dic.items(): \n",
    "        if value==province:\n",
    "            original=key\n",
    "print(\"The province with the largest population is:\", original)"
   ]
  },
  {
   "cell_type": "code",
   "execution_count": null,
   "id": "5f0b3601",
   "metadata": {},
   "outputs": [],
   "source": []
  },
  {
   "cell_type": "code",
   "execution_count": null,
   "id": "2418c52a",
   "metadata": {},
   "outputs": [],
   "source": [
    "\n",
    "\n"
   ]
  },
  {
   "cell_type": "code",
   "execution_count": 7,
   "id": "22b75115",
   "metadata": {},
   "outputs": [
    {
     "name": "stdout",
     "output_type": "stream",
     "text": [
      "ON\n",
      "Ontario\n"
     ]
    }
   ],
   "source": [
    "\n",
    "        "
   ]
  },
  {
   "cell_type": "code",
   "execution_count": null,
   "id": "6371feba",
   "metadata": {},
   "outputs": [],
   "source": []
  }
 ],
 "metadata": {
  "kernelspec": {
   "display_name": "Python 3 (ipykernel)",
   "language": "python",
   "name": "python3"
  },
  "language_info": {
   "codemirror_mode": {
    "name": "ipython",
    "version": 3
   },
   "file_extension": ".py",
   "mimetype": "text/x-python",
   "name": "python",
   "nbconvert_exporter": "python",
   "pygments_lexer": "ipython3",
   "version": "3.11.4"
  }
 },
 "nbformat": 4,
 "nbformat_minor": 5
}
